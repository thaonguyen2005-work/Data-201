{
 "cells": [
  {
   "cell_type": "markdown",
   "id": "998bd3b9-7b9e-4bf6-a16c-dfb6b2b87f55",
   "metadata": {},
   "source": [
    "**Exercise 1: Use the yfinance library to download Adjusted Close Prices (from Yahoo Finance) for a common stock of your choice. Download monthly price\n",
    "data from January 2010 through December 2024.**"
   ]
  },
  {
   "cell_type": "code",
   "execution_count": 201,
   "id": "2f1840a7-ac36-47db-8657-3528076952fe",
   "metadata": {},
   "outputs": [
    {
     "name": "stderr",
     "output_type": "stream",
     "text": [
      "[*********************100%***********************]  1 of 1 completed\n"
     ]
    },
    {
     "data": {
      "text/html": [
       "<div>\n",
       "<style scoped>\n",
       "    .dataframe tbody tr th:only-of-type {\n",
       "        vertical-align: middle;\n",
       "    }\n",
       "\n",
       "    .dataframe tbody tr th {\n",
       "        vertical-align: top;\n",
       "    }\n",
       "\n",
       "    .dataframe thead tr th {\n",
       "        text-align: left;\n",
       "    }\n",
       "\n",
       "    .dataframe thead tr:last-of-type th {\n",
       "        text-align: right;\n",
       "    }\n",
       "</style>\n",
       "<table border=\"1\" class=\"dataframe\">\n",
       "  <thead>\n",
       "    <tr>\n",
       "      <th>Price</th>\n",
       "      <th>Adj Close</th>\n",
       "      <th>Close</th>\n",
       "      <th>High</th>\n",
       "      <th>Low</th>\n",
       "      <th>Open</th>\n",
       "      <th>Volume</th>\n",
       "    </tr>\n",
       "    <tr>\n",
       "      <th>Ticker</th>\n",
       "      <th>MSFT</th>\n",
       "      <th>MSFT</th>\n",
       "      <th>MSFT</th>\n",
       "      <th>MSFT</th>\n",
       "      <th>MSFT</th>\n",
       "      <th>MSFT</th>\n",
       "    </tr>\n",
       "    <tr>\n",
       "      <th>Date</th>\n",
       "      <th></th>\n",
       "      <th></th>\n",
       "      <th></th>\n",
       "      <th></th>\n",
       "      <th></th>\n",
       "      <th></th>\n",
       "    </tr>\n",
       "  </thead>\n",
       "  <tbody>\n",
       "    <tr>\n",
       "      <th>2010-01-01</th>\n",
       "      <td>21.215284</td>\n",
       "      <td>28.180000</td>\n",
       "      <td>31.240000</td>\n",
       "      <td>27.660000</td>\n",
       "      <td>30.620001</td>\n",
       "      <td>1359650900</td>\n",
       "    </tr>\n",
       "    <tr>\n",
       "      <th>2010-02-01</th>\n",
       "      <td>21.584181</td>\n",
       "      <td>28.670000</td>\n",
       "      <td>29.030001</td>\n",
       "      <td>27.570000</td>\n",
       "      <td>28.389999</td>\n",
       "      <td>1074643300</td>\n",
       "    </tr>\n",
       "    <tr>\n",
       "      <th>2010-03-01</th>\n",
       "      <td>22.154072</td>\n",
       "      <td>29.290001</td>\n",
       "      <td>30.570000</td>\n",
       "      <td>28.240000</td>\n",
       "      <td>28.770000</td>\n",
       "      <td>1110237200</td>\n",
       "    </tr>\n",
       "    <tr>\n",
       "      <th>2010-04-01</th>\n",
       "      <td>23.099529</td>\n",
       "      <td>30.540001</td>\n",
       "      <td>31.580000</td>\n",
       "      <td>28.620001</td>\n",
       "      <td>29.350000</td>\n",
       "      <td>1319029500</td>\n",
       "    </tr>\n",
       "    <tr>\n",
       "      <th>2010-05-01</th>\n",
       "      <td>19.514328</td>\n",
       "      <td>25.799999</td>\n",
       "      <td>31.059999</td>\n",
       "      <td>24.559999</td>\n",
       "      <td>30.670000</td>\n",
       "      <td>1720130200</td>\n",
       "    </tr>\n",
       "    <tr>\n",
       "      <th>...</th>\n",
       "      <td>...</td>\n",
       "      <td>...</td>\n",
       "      <td>...</td>\n",
       "      <td>...</td>\n",
       "      <td>...</td>\n",
       "      <td>...</td>\n",
       "    </tr>\n",
       "    <tr>\n",
       "      <th>2024-08-01</th>\n",
       "      <td>415.557709</td>\n",
       "      <td>417.140015</td>\n",
       "      <td>427.459991</td>\n",
       "      <td>385.579987</td>\n",
       "      <td>420.790009</td>\n",
       "      <td>451919000</td>\n",
       "    </tr>\n",
       "    <tr>\n",
       "      <th>2024-09-01</th>\n",
       "      <td>429.440399</td>\n",
       "      <td>430.299988</td>\n",
       "      <td>441.850006</td>\n",
       "      <td>400.799988</td>\n",
       "      <td>417.910004</td>\n",
       "      <td>376921200</td>\n",
       "    </tr>\n",
       "    <tr>\n",
       "      <th>2024-10-01</th>\n",
       "      <td>405.538269</td>\n",
       "      <td>406.350006</td>\n",
       "      <td>438.500000</td>\n",
       "      <td>406.299988</td>\n",
       "      <td>428.450012</td>\n",
       "      <td>440745500</td>\n",
       "    </tr>\n",
       "    <tr>\n",
       "      <th>2024-11-01</th>\n",
       "      <td>422.614075</td>\n",
       "      <td>423.459991</td>\n",
       "      <td>429.329987</td>\n",
       "      <td>405.570007</td>\n",
       "      <td>409.010010</td>\n",
       "      <td>442321200</td>\n",
       "    </tr>\n",
       "    <tr>\n",
       "      <th>2024-12-01</th>\n",
       "      <td>421.500000</td>\n",
       "      <td>421.500000</td>\n",
       "      <td>456.160004</td>\n",
       "      <td>420.660004</td>\n",
       "      <td>421.570007</td>\n",
       "      <td>439902400</td>\n",
       "    </tr>\n",
       "  </tbody>\n",
       "</table>\n",
       "<p>180 rows × 6 columns</p>\n",
       "</div>"
      ],
      "text/plain": [
       "Price        Adj Close       Close        High         Low        Open  \\\n",
       "Ticker            MSFT        MSFT        MSFT        MSFT        MSFT   \n",
       "Date                                                                     \n",
       "2010-01-01   21.215284   28.180000   31.240000   27.660000   30.620001   \n",
       "2010-02-01   21.584181   28.670000   29.030001   27.570000   28.389999   \n",
       "2010-03-01   22.154072   29.290001   30.570000   28.240000   28.770000   \n",
       "2010-04-01   23.099529   30.540001   31.580000   28.620001   29.350000   \n",
       "2010-05-01   19.514328   25.799999   31.059999   24.559999   30.670000   \n",
       "...                ...         ...         ...         ...         ...   \n",
       "2024-08-01  415.557709  417.140015  427.459991  385.579987  420.790009   \n",
       "2024-09-01  429.440399  430.299988  441.850006  400.799988  417.910004   \n",
       "2024-10-01  405.538269  406.350006  438.500000  406.299988  428.450012   \n",
       "2024-11-01  422.614075  423.459991  429.329987  405.570007  409.010010   \n",
       "2024-12-01  421.500000  421.500000  456.160004  420.660004  421.570007   \n",
       "\n",
       "Price           Volume  \n",
       "Ticker            MSFT  \n",
       "Date                    \n",
       "2010-01-01  1359650900  \n",
       "2010-02-01  1074643300  \n",
       "2010-03-01  1110237200  \n",
       "2010-04-01  1319029500  \n",
       "2010-05-01  1720130200  \n",
       "...                ...  \n",
       "2024-08-01   451919000  \n",
       "2024-09-01   376921200  \n",
       "2024-10-01   440745500  \n",
       "2024-11-01   442321200  \n",
       "2024-12-01   439902400  \n",
       "\n",
       "[180 rows x 6 columns]"
      ]
     },
     "execution_count": 201,
     "metadata": {},
     "output_type": "execute_result"
    }
   ],
   "source": [
    "#!pip install yfinance\n",
    "import yfinance as yf\n",
    "data = yf.download('MSFT', start=\"2010-01-01\", end=\"2025-01-01\", interval=\"1mo\", auto_adjust=False)\n",
    "data"
   ]
  },
  {
   "cell_type": "code",
   "execution_count": 203,
   "id": "8e01a601-64e4-42a3-9891-55b9c3395882",
   "metadata": {},
   "outputs": [
    {
     "data": {
      "text/html": [
       "<div>\n",
       "<style scoped>\n",
       "    .dataframe tbody tr th:only-of-type {\n",
       "        vertical-align: middle;\n",
       "    }\n",
       "\n",
       "    .dataframe tbody tr th {\n",
       "        vertical-align: top;\n",
       "    }\n",
       "\n",
       "    .dataframe thead th {\n",
       "        text-align: right;\n",
       "    }\n",
       "</style>\n",
       "<table border=\"1\" class=\"dataframe\">\n",
       "  <thead>\n",
       "    <tr style=\"text-align: right;\">\n",
       "      <th>Ticker</th>\n",
       "      <th>MSFT</th>\n",
       "    </tr>\n",
       "    <tr>\n",
       "      <th>Date</th>\n",
       "      <th></th>\n",
       "    </tr>\n",
       "  </thead>\n",
       "  <tbody>\n",
       "    <tr>\n",
       "      <th>2010-01-01</th>\n",
       "      <td>21.215284</td>\n",
       "    </tr>\n",
       "    <tr>\n",
       "      <th>2010-02-01</th>\n",
       "      <td>21.584181</td>\n",
       "    </tr>\n",
       "    <tr>\n",
       "      <th>2010-03-01</th>\n",
       "      <td>22.154072</td>\n",
       "    </tr>\n",
       "    <tr>\n",
       "      <th>2010-04-01</th>\n",
       "      <td>23.099529</td>\n",
       "    </tr>\n",
       "    <tr>\n",
       "      <th>2010-05-01</th>\n",
       "      <td>19.514328</td>\n",
       "    </tr>\n",
       "    <tr>\n",
       "      <th>...</th>\n",
       "      <td>...</td>\n",
       "    </tr>\n",
       "    <tr>\n",
       "      <th>2024-08-01</th>\n",
       "      <td>415.557709</td>\n",
       "    </tr>\n",
       "    <tr>\n",
       "      <th>2024-09-01</th>\n",
       "      <td>429.440399</td>\n",
       "    </tr>\n",
       "    <tr>\n",
       "      <th>2024-10-01</th>\n",
       "      <td>405.538269</td>\n",
       "    </tr>\n",
       "    <tr>\n",
       "      <th>2024-11-01</th>\n",
       "      <td>422.614075</td>\n",
       "    </tr>\n",
       "    <tr>\n",
       "      <th>2024-12-01</th>\n",
       "      <td>421.500000</td>\n",
       "    </tr>\n",
       "  </tbody>\n",
       "</table>\n",
       "<p>180 rows × 1 columns</p>\n",
       "</div>"
      ],
      "text/plain": [
       "Ticker            MSFT\n",
       "Date                  \n",
       "2010-01-01   21.215284\n",
       "2010-02-01   21.584181\n",
       "2010-03-01   22.154072\n",
       "2010-04-01   23.099529\n",
       "2010-05-01   19.514328\n",
       "...                ...\n",
       "2024-08-01  415.557709\n",
       "2024-09-01  429.440399\n",
       "2024-10-01  405.538269\n",
       "2024-11-01  422.614075\n",
       "2024-12-01  421.500000\n",
       "\n",
       "[180 rows x 1 columns]"
      ]
     },
     "execution_count": 203,
     "metadata": {},
     "output_type": "execute_result"
    }
   ],
   "source": [
    "data['Adj Close']"
   ]
  },
  {
   "cell_type": "markdown",
   "id": "71197227-c15b-46a2-919e-a6d0845ee4e1",
   "metadata": {},
   "source": [
    "**Exercise 2: Compute the natural logarithmic returns (log returns)**"
   ]
  },
  {
   "cell_type": "code",
   "execution_count": 208,
   "id": "1d02af23-cf3f-4516-8083-dba4d3311bb2",
   "metadata": {},
   "outputs": [],
   "source": [
    "import numpy as np"
   ]
  },
  {
   "cell_type": "code",
   "execution_count": 210,
   "id": "29f87fe5-41c5-414f-bfda-9eae2fc10a87",
   "metadata": {},
   "outputs": [
    {
     "data": {
      "text/html": [
       "<div>\n",
       "<style scoped>\n",
       "    .dataframe tbody tr th:only-of-type {\n",
       "        vertical-align: middle;\n",
       "    }\n",
       "\n",
       "    .dataframe tbody tr th {\n",
       "        vertical-align: top;\n",
       "    }\n",
       "\n",
       "    .dataframe thead tr th {\n",
       "        text-align: left;\n",
       "    }\n",
       "\n",
       "    .dataframe thead tr:last-of-type th {\n",
       "        text-align: right;\n",
       "    }\n",
       "</style>\n",
       "<table border=\"1\" class=\"dataframe\">\n",
       "  <thead>\n",
       "    <tr>\n",
       "      <th>Price</th>\n",
       "      <th>Adj Close</th>\n",
       "      <th>Close</th>\n",
       "      <th>High</th>\n",
       "      <th>Low</th>\n",
       "      <th>Open</th>\n",
       "      <th>Volume</th>\n",
       "      <th>ret_log</th>\n",
       "    </tr>\n",
       "    <tr>\n",
       "      <th>Ticker</th>\n",
       "      <th>MSFT</th>\n",
       "      <th>MSFT</th>\n",
       "      <th>MSFT</th>\n",
       "      <th>MSFT</th>\n",
       "      <th>MSFT</th>\n",
       "      <th>MSFT</th>\n",
       "      <th></th>\n",
       "    </tr>\n",
       "    <tr>\n",
       "      <th>Date</th>\n",
       "      <th></th>\n",
       "      <th></th>\n",
       "      <th></th>\n",
       "      <th></th>\n",
       "      <th></th>\n",
       "      <th></th>\n",
       "      <th></th>\n",
       "    </tr>\n",
       "  </thead>\n",
       "  <tbody>\n",
       "    <tr>\n",
       "      <th>2010-01-01</th>\n",
       "      <td>21.215284</td>\n",
       "      <td>28.180000</td>\n",
       "      <td>31.240000</td>\n",
       "      <td>27.660000</td>\n",
       "      <td>30.620001</td>\n",
       "      <td>1359650900</td>\n",
       "      <td>NaN</td>\n",
       "    </tr>\n",
       "    <tr>\n",
       "      <th>2010-02-01</th>\n",
       "      <td>21.584181</td>\n",
       "      <td>28.670000</td>\n",
       "      <td>29.030001</td>\n",
       "      <td>27.570000</td>\n",
       "      <td>28.389999</td>\n",
       "      <td>1074643300</td>\n",
       "      <td>0.017239</td>\n",
       "    </tr>\n",
       "    <tr>\n",
       "      <th>2010-03-01</th>\n",
       "      <td>22.154072</td>\n",
       "      <td>29.290001</td>\n",
       "      <td>30.570000</td>\n",
       "      <td>28.240000</td>\n",
       "      <td>28.770000</td>\n",
       "      <td>1110237200</td>\n",
       "      <td>0.026061</td>\n",
       "    </tr>\n",
       "    <tr>\n",
       "      <th>2010-04-01</th>\n",
       "      <td>23.099529</td>\n",
       "      <td>30.540001</td>\n",
       "      <td>31.580000</td>\n",
       "      <td>28.620001</td>\n",
       "      <td>29.350000</td>\n",
       "      <td>1319029500</td>\n",
       "      <td>0.041791</td>\n",
       "    </tr>\n",
       "    <tr>\n",
       "      <th>2010-05-01</th>\n",
       "      <td>19.514328</td>\n",
       "      <td>25.799999</td>\n",
       "      <td>31.059999</td>\n",
       "      <td>24.559999</td>\n",
       "      <td>30.670000</td>\n",
       "      <td>1720130200</td>\n",
       "      <td>-0.168663</td>\n",
       "    </tr>\n",
       "    <tr>\n",
       "      <th>...</th>\n",
       "      <td>...</td>\n",
       "      <td>...</td>\n",
       "      <td>...</td>\n",
       "      <td>...</td>\n",
       "      <td>...</td>\n",
       "      <td>...</td>\n",
       "      <td>...</td>\n",
       "    </tr>\n",
       "    <tr>\n",
       "      <th>2024-08-01</th>\n",
       "      <td>415.557709</td>\n",
       "      <td>417.140015</td>\n",
       "      <td>427.459991</td>\n",
       "      <td>385.579987</td>\n",
       "      <td>420.790009</td>\n",
       "      <td>451919000</td>\n",
       "      <td>-0.002897</td>\n",
       "    </tr>\n",
       "    <tr>\n",
       "      <th>2024-09-01</th>\n",
       "      <td>429.440399</td>\n",
       "      <td>430.299988</td>\n",
       "      <td>441.850006</td>\n",
       "      <td>400.799988</td>\n",
       "      <td>417.910004</td>\n",
       "      <td>376921200</td>\n",
       "      <td>0.032861</td>\n",
       "    </tr>\n",
       "    <tr>\n",
       "      <th>2024-10-01</th>\n",
       "      <td>405.538269</td>\n",
       "      <td>406.350006</td>\n",
       "      <td>438.500000</td>\n",
       "      <td>406.299988</td>\n",
       "      <td>428.450012</td>\n",
       "      <td>440745500</td>\n",
       "      <td>-0.057268</td>\n",
       "    </tr>\n",
       "    <tr>\n",
       "      <th>2024-11-01</th>\n",
       "      <td>422.614075</td>\n",
       "      <td>423.459991</td>\n",
       "      <td>429.329987</td>\n",
       "      <td>405.570007</td>\n",
       "      <td>409.010010</td>\n",
       "      <td>442321200</td>\n",
       "      <td>0.041244</td>\n",
       "    </tr>\n",
       "    <tr>\n",
       "      <th>2024-12-01</th>\n",
       "      <td>421.500000</td>\n",
       "      <td>421.500000</td>\n",
       "      <td>456.160004</td>\n",
       "      <td>420.660004</td>\n",
       "      <td>421.570007</td>\n",
       "      <td>439902400</td>\n",
       "      <td>-0.002640</td>\n",
       "    </tr>\n",
       "  </tbody>\n",
       "</table>\n",
       "<p>180 rows × 7 columns</p>\n",
       "</div>"
      ],
      "text/plain": [
       "Price        Adj Close       Close        High         Low        Open  \\\n",
       "Ticker            MSFT        MSFT        MSFT        MSFT        MSFT   \n",
       "Date                                                                     \n",
       "2010-01-01   21.215284   28.180000   31.240000   27.660000   30.620001   \n",
       "2010-02-01   21.584181   28.670000   29.030001   27.570000   28.389999   \n",
       "2010-03-01   22.154072   29.290001   30.570000   28.240000   28.770000   \n",
       "2010-04-01   23.099529   30.540001   31.580000   28.620001   29.350000   \n",
       "2010-05-01   19.514328   25.799999   31.059999   24.559999   30.670000   \n",
       "...                ...         ...         ...         ...         ...   \n",
       "2024-08-01  415.557709  417.140015  427.459991  385.579987  420.790009   \n",
       "2024-09-01  429.440399  430.299988  441.850006  400.799988  417.910004   \n",
       "2024-10-01  405.538269  406.350006  438.500000  406.299988  428.450012   \n",
       "2024-11-01  422.614075  423.459991  429.329987  405.570007  409.010010   \n",
       "2024-12-01  421.500000  421.500000  456.160004  420.660004  421.570007   \n",
       "\n",
       "Price           Volume   ret_log  \n",
       "Ticker            MSFT            \n",
       "Date                              \n",
       "2010-01-01  1359650900       NaN  \n",
       "2010-02-01  1074643300  0.017239  \n",
       "2010-03-01  1110237200  0.026061  \n",
       "2010-04-01  1319029500  0.041791  \n",
       "2010-05-01  1720130200 -0.168663  \n",
       "...                ...       ...  \n",
       "2024-08-01   451919000 -0.002897  \n",
       "2024-09-01   376921200  0.032861  \n",
       "2024-10-01   440745500 -0.057268  \n",
       "2024-11-01   442321200  0.041244  \n",
       "2024-12-01   439902400 -0.002640  \n",
       "\n",
       "[180 rows x 7 columns]"
      ]
     },
     "execution_count": 210,
     "metadata": {},
     "output_type": "execute_result"
    }
   ],
   "source": [
    "data['ret_log'] = np.log(data['Adj Close']/data['Adj Close'].shift(1))\n",
    "data"
   ]
  },
  {
   "cell_type": "markdown",
   "id": "375f2bc9-1b2a-4e2b-a4a9-bd730f3f95ef",
   "metadata": {},
   "source": [
    "**Exercise 3: Plot the price series using matplotlib or seaborn. Describe the trend and any notable patterns**"
   ]
  },
  {
   "cell_type": "code",
   "execution_count": 215,
   "id": "00984e5f-0188-45ba-86d0-e6c9e71af69b",
   "metadata": {},
   "outputs": [
    {
     "data": {
      "image/png": "[encoded data removed]",
      "text/plain": [
       "<Figure size 1000x500 with 1 Axes>"
      ]
     },
     "metadata": {},
     "output_type": "display_data"
    }
   ],
   "source": [
    "import matplotlib.pyplot as plt \n",
    "\n",
    "close_prices = data['Close']\n",
    "plt.figure(figsize=(10, 5)) \n",
    "plt.plot(close_prices, color='blue', linewidth=1.5, label='MSFT Close Price')  \n",
    "plt.title('MSFT Stock Close Prices (2010-2024)', fontsize=16)      \n",
    "plt.xlabel('Year', fontsize=14)                                           \n",
    "plt.ylabel('Close Price (USD)', fontsize=14)                              \n",
    "plt.legend()                                                               \n",
    "plt.grid(True)                                                              \n",
    "plt.tight_layout()                                                          \n",
    "plt.show() "
   ]
  },
  {
   "cell_type": "markdown",
   "id": "9bf46629-ead3-4c90-aa71-bb1aea4ce811",
   "metadata": {},
   "source": [
    "**Trend:**\n",
    "  \n",
    "The MSFT stock price has demonstrated a strong upward trend from 2010 to 2024, experiencing steady growth until 2017 before accelerating rapidly. \n",
    "\n",
    "Between 2020 and 2022, there were notable fluctuations, likely influenced by the pandemic and market volatility. Despite short-term corrections, \n",
    "the stock remained at high levels in 2023-2024, reflecting sustained investor confidence."
   ]
  },
  {
   "cell_type": "markdown",
   "id": "87a98a84-36e1-4c28-bb85-f3ed6b732adb",
   "metadata": {},
   "source": [
    "**Exercise 4: Plot the log return series. Describe its characteristics.**"
   ]
  },
  {
   "cell_type": "code",
   "execution_count": 226,
   "id": "87b7a803-f765-4774-bab8-cea7f1ddbc17",
   "metadata": {},
   "outputs": [
    {
     "data": {
      "image/png": "[encoded data removed]",
      "text/plain": [
       "<Figure size 1000x500 with 1 Axes>"
      ]
     },
     "metadata": {},
     "output_type": "display_data"
    }
   ],
   "source": [
    "plt.figure(figsize=(10, 5)) \n",
    "plt.plot(data['ret_log'], color='red', linewidth=1.5, label='Log Returns')  \n",
    "plt.title('MSFT Log Return Series (2010-2024)', fontsize=16)      \n",
    "plt.xlabel('Year', fontsize=14)                                           \n",
    "plt.ylabel('Log Return', fontsize=14)                              \n",
    "plt.legend()                                                               \n",
    "plt.grid(True)                                                              \n",
    "plt.tight_layout()                                                          \n",
    "plt.show() "
   ]
  },
  {
   "cell_type": "markdown",
   "id": "f6b2f329-9362-46f0-8e04-012600258059",
   "metadata": {},
   "source": [
    "**Characteristics:**\n",
    "\n",
    "The MSFT log return series from 2010 to 2024 exhibits high volatility, with frequent fluctuations between positive and negative returns. \n",
    "There are several spikes, indicating periods of high returns as well as sharp declines, suggesting market instability or major financial \n",
    "events affecting the stock. The series does not show a clear upward or downward trend, showing that the returns tend to move back toward \n",
    "an average level over time. Additionally, the presence of clustering in volatility suggests that periods of high fluctuations tend to follow \n",
    "one another, which is a common characteristic of financial time series."
   ]
  },
  {
   "cell_type": "markdown",
   "id": "70894119-3eae-45db-8f67-8e127ed7d410",
   "metadata": {},
   "source": [
    "**Exercise 5: Compute the descriptive statistics of the log return series using the scipy.stats or pandas methods.**"
   ]
  },
  {
   "cell_type": "code",
   "execution_count": 232,
   "id": "0c580a85-db08-4bc7-a03d-eaf4a6ee7cad",
   "metadata": {},
   "outputs": [
    {
     "data": {
      "text/plain": [
       "count    179.000000\n",
       "mean       0.016699\n",
       "std        0.060927\n",
       "min       -0.168663\n",
       "25%       -0.022454\n",
       "50%        0.021155\n",
       "75%        0.054846\n",
       "max        0.179202\n",
       "Name: ret_log, dtype: float64"
      ]
     },
     "execution_count": 232,
     "metadata": {},
     "output_type": "execute_result"
    }
   ],
   "source": [
    "import pandas as dp\n",
    "descriptive_stats = data['ret_log'].describe()\n",
    "descriptive_stats"
   ]
  },
  {
   "cell_type": "markdown",
   "id": "689d764a-9dc4-4328-939f-b0cb1c91f84a",
   "metadata": {},
   "source": [
    "**Exercise 6: Identify and define the first four moments (mean, variance, skewness, kurtosis) of the log return distribution.**"
   ]
  },
  {
   "cell_type": "code",
   "execution_count": 310,
   "id": "02cc0998-6661-4d03-9b52-0af84de39edb",
   "metadata": {},
   "outputs": [
    {
     "data": {
      "text/plain": [
       "0.0167"
      ]
     },
     "execution_count": 310,
     "metadata": {},
     "output_type": "execute_result"
    }
   ],
   "source": [
    "data['ret_log'].mean().round(4)"
   ]
  },
  {
   "cell_type": "code",
   "execution_count": 300,
   "id": "03818c14-fcf4-46a3-9b0e-61c41b3b05e8",
   "metadata": {},
   "outputs": [
    {
     "data": {
      "text/plain": [
       "0.060927480799319846"
      ]
     },
     "execution_count": 300,
     "metadata": {},
     "output_type": "execute_result"
    }
   ],
   "source": [
    "std = data['ret_log'].std()\n",
    "std"
   ]
  },
  {
   "cell_type": "code",
   "execution_count": 316,
   "id": "c274cd93-4abc-46a8-91ba-4c0b724a4688",
   "metadata": {},
   "outputs": [
    {
     "data": {
      "text/plain": [
       "0.0037"
      ]
     },
     "execution_count": 316,
     "metadata": {},
     "output_type": "execute_result"
    }
   ],
   "source": [
    "variance = std **2 \n",
    "round(variance, 4)"
   ]
  },
  {
   "cell_type": "markdown",
   "id": "cda58ee0-eaf4-4bbb-b277-f117aa7e9bc4",
   "metadata": {},
   "source": [
    "from scipy.stats import skew\n",
    "skew(data['ret_log'].dropna()).round(4)"
   ]
  },
  {
   "cell_type": "code",
   "execution_count": 379,
   "id": "02a27c83-a4b1-45dc-8385-f70d8f045980",
   "metadata": {},
   "outputs": [
    {
     "data": {
      "text/plain": [
       "0.1988"
      ]
     },
     "execution_count": 379,
     "metadata": {},
     "output_type": "execute_result"
    }
   ],
   "source": [
    "from scipy.stats import kurtosis\n",
    "kurtosis(data['ret_log'].dropna()).round(4)"
   ]
  },
  {
   "cell_type": "markdown",
   "id": "9039e081-804a-4fcc-8fe4-a322f0021bfa",
   "metadata": {},
   "source": [
    "The first four moments of the log return distribution is:\n",
    "\n",
    "**mean**: 0.0167\n",
    "\n",
    "**variance**: 0.0037\n",
    "\n",
    "**skewness**: -0.1245\n",
    "\n",
    "**kurtosis**: 0.1988"
   ]
  },
  {
   "cell_type": "markdown",
   "id": "54213673-48e6-4b10-ac9e-3a4d5f2da494",
   "metadata": {},
   "source": [
    "**Exercise 7: Explain the meaning of the computed values for each of the four moments of the log returns distribution.**"
   ]
  },
  {
   "cell_type": "markdown",
   "id": "60fb7e46-80d4-49ed-b3b3-da7eb4eb10bd",
   "metadata": {},
   "source": [
    "**Mean:** \n",
    "\n",
    "The mean of the log returns is 0.0167 represents the average percentage change in the asset's price, which accounts for price changes after adjustments\n",
    "like dividends or stock splits. This suggests that, on average, the adjusted closing price increases by about 1.67% per period. "
   ]
  },
  {
   "cell_type": "markdown",
   "id": "32ccebb0-a205-4015-b65e-7d92ed0024af",
   "metadata": {},
   "source": [
    "**Variance:**\n",
    "\n",
    "The variance of the log returns distribution (0.0037) measures the degree of variability or dispersion in the asset's log returns. A higher variance\n",
    "indicates more volatility, meaning the asset's price can fluctuate more widely from its average return."
   ]
  },
  {
   "cell_type": "markdown",
   "id": "c2181531-2f9a-4030-8d04-bee80bca383c",
   "metadata": {},
   "source": [
    "**Skewness:**\n",
    "\n",
    "The skewness of -0.1245 indicates that the log returns distribution is slightly negatively skewed, meaning it has a slight tendency for more extreme\n",
    "negative returns compared to positive returns. However, since the value is close to zero, this suggests that the data is fairly balanced, but there may still be a small risk of larger downside events."
   ]
  },
  {
   "cell_type": "markdown",
   "id": "8b5604e9-e9e0-4aba-8bee-562bf2862ac0",
   "metadata": {},
   "source": [
    "**Kurtosis:**\n",
    "\n",
    "A kurtosis of 0.1988 for log returns suggests that the distribution closely resembles a normal distribution in terms of tail behavior. This means the probability of extreme positive or negative returns is neither significantly higher nor lower than expected under normality. Such a result implies that the log returns are relatively stable and lack pronounced extreme events or outliers."
   ]
  },
  {
   "cell_type": "markdown",
   "id": "e23ba5dd-be7c-416d-8178-98862ffcdea8",
   "metadata": {},
   "source": [
    "**Exercise 8: Exploring Normality: Research the Jarque-Bera (JB) test and its application to financial data. Perform the test using scipy.stats.jarque \n",
    "bera(),and interpret the results in the context of stock return distributions. Discuss why normality is important (or not) in financial modeling**"
   ]
  },
  {
   "cell_type": "code",
   "execution_count": 359,
   "id": "658f2b5d-b6ba-46b8-ab68-d071c3b36c70",
   "metadata": {},
   "outputs": [],
   "source": [
    "from scipy.stats import jarque_bera"
   ]
  },
  {
   "cell_type": "code",
   "execution_count": 363,
   "id": "76757e5d-4573-46c2-87a9-3a5851cadc45",
   "metadata": {},
   "outputs": [],
   "source": [
    "jb_stat, p_value = jarque_bera(data['ret_log'].dropna())"
   ]
  },
  {
   "cell_type": "code",
   "execution_count": 391,
   "id": "742f7676-3785-4902-9be4-17a2b3fe34fd",
   "metadata": {},
   "outputs": [
    {
     "name": "stdout",
     "output_type": "stream",
     "text": [
      "Jarque-Bera Statistic: 0.7571\n",
      "P-value: 0.6848\n"
     ]
    }
   ],
   "source": [
    "print(f\"Jarque-Bera Statistic: {round(jb_stat,4)}\")\n",
    "print(f\"P-value: {round(p_value, 4)}\")"
   ]
  },
  {
   "cell_type": "markdown",
   "id": "9f2ec81f-4998-4efc-aefb-2e30b016fb63",
   "metadata": {},
   "source": [
    "**Interpretation of the Jarque-Bera Results in the Context of Stock Returns:**\n",
    "\n",
    "JB Statistic (0.7571) is low, indicating that the deviations from normality are small.\n",
    "\n",
    "P-value (0.6848) is high, meaning there is no significant evidence to reject the hypothesis that stock returns are normally distributed (with respect to skewness and kurtosis).\n",
    "\n",
    "The stock returns appear to follow a normal distribution in terms of their skewness and kurtosis."
   ]
  },
  {
   "cell_type": "markdown",
   "id": "7474d761-3e72-4bf0-9d89-d4c688a1d071",
   "metadata": {},
   "source": [
    "**Discuss why normality is important in financial modeling:**\n",
    "\n",
    "Normality is important in financial modeling because many models assume normal distribution to simplify calculations and make predictions. For example, portfolio optimization and risk management often rely on normality for estimating expected returns and volatility. However, financial data often exhibit skewness and fat tails, so while normality is useful for approximation, models that account for non-normality may provide more accurate risk assessments."
   ]
  },
  {
   "cell_type": "markdown",
   "id": "89118251-08af-41bd-babe-621a9ed00092",
   "metadata": {},
   "source": [
    "**Exercise 9: Conclusion: Is your log return series normally distributed? Yes or No? Justify your answer.**"
   ]
  },
  {
   "cell_type": "markdown",
   "id": "abf86ab6-6c07-4017-a18b-1b6e02fb6f2c",
   "metadata": {},
   "source": [
    "**My log return series is normally distributed because:**\n",
    "\n",
    "**Skewness** (-0.1245): Close to zero, indicating the data is nearly symmetric.\n",
    "\n",
    "**Kurtosis** (0.1988): This value suggests only mild deviations from normality in terms of \"fat tails\" (extreme values). Since 0.1988 is not large, this indicates that the distribution is not excessively fat-tailed, which also supports normality.\n",
    "\n",
    "**Jarque-Bera Test (JB Statistic: 0.7571, P-value: 0.6848)**:\n",
    "    \n",
    "**The p-value** (0.6848) is much greater than 0.05, meaning we fail to reject the null hypothesis of normality.\n",
    "\n",
    "This suggests that the log return series does not significantly deviate from a normal distribution."
   ]
  }
 ],
 "metadata": {
  "kernelspec": {
   "display_name": "Python [conda env:Attachments]",
   "language": "python",
   "name": "conda-env-Attachments-py"
  },
  "language_info": {
   "codemirror_mode": {
    "name": "ipython",
    "version": 3
   },
   "file_extension": ".py",
   "mimetype": "text/x-python",
   "name": "python",
   "nbconvert_exporter": "python",
   "pygments_lexer": "ipython3",
   "version": "3.12.7"
  }
 },
 "nbformat": 4,
 "nbformat_minor": 5
}
